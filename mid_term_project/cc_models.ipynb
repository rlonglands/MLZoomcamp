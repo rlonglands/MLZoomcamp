{
 "cells": [
  {
   "cell_type": "markdown",
   "metadata": {},
   "source": [
    "### Credit card approvals dataset classification models"
   ]
  },
  {
   "cell_type": "code",
   "execution_count": 1,
   "metadata": {},
   "outputs": [],
   "source": [
    "import pandas as pd\n",
    "import numpy as np\n",
    "from matplotlib import pyplot as plt\n",
    "from sklearn.model_selection import train_test_split\n",
    "from sklearn.metrics import mutual_info_score\n",
    "from sklearn.feature_extraction import DictVectorizer\n",
    "from sklearn.linear_model import LogisticRegression\n",
    "from sklearn.metrics import roc_auc_score\n",
    "from tqdm.auto import tqdm\n",
    "from sklearn.model_selection import KFold"
   ]
  },
  {
   "cell_type": "markdown",
   "metadata": {},
   "source": [
    "Import and clean up"
   ]
  },
  {
   "cell_type": "code",
   "execution_count": 8,
   "metadata": {},
   "outputs": [],
   "source": [
    "df = pd.read_csv('cc_approvals.csv')"
   ]
  },
  {
   "cell_type": "code",
   "execution_count": 9,
   "metadata": {},
   "outputs": [],
   "source": [
    "df.columns = ['gender', 'age', 'debt', 'married', 'bankcustomer', 'educationlevel',\n",
    "       'ethnicity', 'yearsemployed', 'priordefault', 'employed', 'creditscore',\n",
    "       'driverslicense', 'citizen', 'zipcode', 'income', 'approvalstatus']"
   ]
  },
  {
   "cell_type": "code",
   "execution_count": 10,
   "metadata": {},
   "outputs": [
    {
     "data": {
      "text/html": [
       "<div>\n",
       "<style scoped>\n",
       "    .dataframe tbody tr th:only-of-type {\n",
       "        vertical-align: middle;\n",
       "    }\n",
       "\n",
       "    .dataframe tbody tr th {\n",
       "        vertical-align: top;\n",
       "    }\n",
       "\n",
       "    .dataframe thead th {\n",
       "        text-align: right;\n",
       "    }\n",
       "</style>\n",
       "<table border=\"1\" class=\"dataframe\">\n",
       "  <thead>\n",
       "    <tr style=\"text-align: right;\">\n",
       "      <th></th>\n",
       "      <th>gender</th>\n",
       "      <th>age</th>\n",
       "      <th>debt</th>\n",
       "      <th>married</th>\n",
       "      <th>bankcustomer</th>\n",
       "      <th>educationlevel</th>\n",
       "      <th>ethnicity</th>\n",
       "      <th>yearsemployed</th>\n",
       "      <th>priordefault</th>\n",
       "      <th>employed</th>\n",
       "      <th>creditscore</th>\n",
       "      <th>driverslicense</th>\n",
       "      <th>citizen</th>\n",
       "      <th>zipcode</th>\n",
       "      <th>income</th>\n",
       "      <th>approvalstatus</th>\n",
       "    </tr>\n",
       "  </thead>\n",
       "  <tbody>\n",
       "    <tr>\n",
       "      <th>0</th>\n",
       "      <td>a</td>\n",
       "      <td>58.67</td>\n",
       "      <td>4.460</td>\n",
       "      <td>u</td>\n",
       "      <td>g</td>\n",
       "      <td>q</td>\n",
       "      <td>h</td>\n",
       "      <td>3.04</td>\n",
       "      <td>t</td>\n",
       "      <td>t</td>\n",
       "      <td>6</td>\n",
       "      <td>f</td>\n",
       "      <td>g</td>\n",
       "      <td>00043</td>\n",
       "      <td>560</td>\n",
       "      <td>+</td>\n",
       "    </tr>\n",
       "    <tr>\n",
       "      <th>1</th>\n",
       "      <td>a</td>\n",
       "      <td>24.50</td>\n",
       "      <td>0.500</td>\n",
       "      <td>u</td>\n",
       "      <td>g</td>\n",
       "      <td>q</td>\n",
       "      <td>h</td>\n",
       "      <td>1.50</td>\n",
       "      <td>t</td>\n",
       "      <td>f</td>\n",
       "      <td>0</td>\n",
       "      <td>f</td>\n",
       "      <td>g</td>\n",
       "      <td>00280</td>\n",
       "      <td>824</td>\n",
       "      <td>+</td>\n",
       "    </tr>\n",
       "    <tr>\n",
       "      <th>2</th>\n",
       "      <td>b</td>\n",
       "      <td>27.83</td>\n",
       "      <td>1.540</td>\n",
       "      <td>u</td>\n",
       "      <td>g</td>\n",
       "      <td>w</td>\n",
       "      <td>v</td>\n",
       "      <td>3.75</td>\n",
       "      <td>t</td>\n",
       "      <td>t</td>\n",
       "      <td>5</td>\n",
       "      <td>t</td>\n",
       "      <td>g</td>\n",
       "      <td>00100</td>\n",
       "      <td>3</td>\n",
       "      <td>+</td>\n",
       "    </tr>\n",
       "    <tr>\n",
       "      <th>3</th>\n",
       "      <td>b</td>\n",
       "      <td>20.17</td>\n",
       "      <td>5.625</td>\n",
       "      <td>u</td>\n",
       "      <td>g</td>\n",
       "      <td>w</td>\n",
       "      <td>v</td>\n",
       "      <td>1.71</td>\n",
       "      <td>t</td>\n",
       "      <td>f</td>\n",
       "      <td>0</td>\n",
       "      <td>f</td>\n",
       "      <td>s</td>\n",
       "      <td>00120</td>\n",
       "      <td>0</td>\n",
       "      <td>+</td>\n",
       "    </tr>\n",
       "    <tr>\n",
       "      <th>4</th>\n",
       "      <td>b</td>\n",
       "      <td>32.08</td>\n",
       "      <td>4.000</td>\n",
       "      <td>u</td>\n",
       "      <td>g</td>\n",
       "      <td>m</td>\n",
       "      <td>v</td>\n",
       "      <td>2.50</td>\n",
       "      <td>t</td>\n",
       "      <td>f</td>\n",
       "      <td>0</td>\n",
       "      <td>t</td>\n",
       "      <td>g</td>\n",
       "      <td>00360</td>\n",
       "      <td>0</td>\n",
       "      <td>+</td>\n",
       "    </tr>\n",
       "  </tbody>\n",
       "</table>\n",
       "</div>"
      ],
      "text/plain": [
       "  gender    age   debt married bankcustomer educationlevel ethnicity  \\\n",
       "0      a  58.67  4.460       u            g              q         h   \n",
       "1      a  24.50  0.500       u            g              q         h   \n",
       "2      b  27.83  1.540       u            g              w         v   \n",
       "3      b  20.17  5.625       u            g              w         v   \n",
       "4      b  32.08  4.000       u            g              m         v   \n",
       "\n",
       "   yearsemployed priordefault employed  creditscore driverslicense citizen  \\\n",
       "0           3.04            t        t            6              f       g   \n",
       "1           1.50            t        f            0              f       g   \n",
       "2           3.75            t        t            5              t       g   \n",
       "3           1.71            t        f            0              f       s   \n",
       "4           2.50            t        f            0              t       g   \n",
       "\n",
       "  zipcode  income approvalstatus  \n",
       "0   00043     560              +  \n",
       "1   00280     824              +  \n",
       "2   00100       3              +  \n",
       "3   00120       0              +  \n",
       "4   00360       0              +  "
      ]
     },
     "execution_count": 10,
     "metadata": {},
     "output_type": "execute_result"
    }
   ],
   "source": [
    "df.head()"
   ]
  },
  {
   "cell_type": "code",
   "execution_count": 11,
   "metadata": {},
   "outputs": [
    {
     "data": {
      "text/plain": [
       "array([False, False, False, False, False, False, False, False, False,\n",
       "       False, False, False, False, False, False, False])"
      ]
     },
     "execution_count": 11,
     "metadata": {},
     "output_type": "execute_result"
    }
   ],
   "source": [
    "df.columns.isnull()"
   ]
  },
  {
   "cell_type": "code",
   "execution_count": 12,
   "metadata": {},
   "outputs": [],
   "source": [
    "df.approvalstatus = df.approvalstatus.replace('+', 1)\n",
    "df.approvalstatus = df.approvalstatus.replace('-', 0)"
   ]
  },
  {
   "cell_type": "code",
   "execution_count": 13,
   "metadata": {},
   "outputs": [
    {
     "data": {
      "text/plain": [
       "array([1, 1, 1, 1, 1, 1, 1, 1, 1, 1, 1, 1, 1, 1, 1, 1, 1, 1, 1, 1, 1, 1,\n",
       "       1, 1, 1, 1, 1, 1, 1, 1, 1, 1, 1, 1, 1, 1, 1, 1, 1, 1, 1, 1, 1, 1,\n",
       "       1, 1, 1, 1, 1, 1, 1, 1, 1, 1, 1, 1, 1, 1, 1, 1, 1, 1, 1, 1, 1, 1,\n",
       "       1, 1, 1, 0, 0, 0, 0, 0, 0, 0, 0, 0, 0, 0, 0, 0, 0, 0, 0, 0, 0, 0,\n",
       "       0, 0, 0, 0, 0, 0, 0, 0, 0, 0, 0, 0, 0, 0, 0, 0, 0, 0, 0, 0, 0, 0,\n",
       "       0, 0, 0, 0, 0, 0, 1, 1, 1, 1, 1, 1, 1, 1, 1, 1, 1, 1, 1, 1, 1, 1,\n",
       "       1, 1, 1, 1, 1, 1, 1, 1, 1, 1, 1, 1, 1, 1, 1, 1, 1, 1, 1, 1, 1, 1,\n",
       "       1, 1, 1, 1, 1, 1, 1, 1, 1, 1, 1, 1, 1, 1, 1, 1, 1, 1, 1, 1, 1, 1,\n",
       "       1, 1, 1, 1, 1, 1, 1, 1, 1, 1, 1, 1, 1, 1, 1, 1, 1, 1, 1, 1, 1, 1,\n",
       "       1, 1, 1, 1, 1, 1, 1, 1, 1, 1, 1, 1, 1, 1, 1, 1, 1, 1, 1, 1, 1, 1,\n",
       "       1, 1, 1, 1, 1, 1, 1, 1, 1, 1, 1, 1, 1, 1, 1, 1, 1, 1, 1, 1, 1, 1,\n",
       "       1, 1, 1, 1, 1, 1, 1, 1, 1, 1, 1, 0, 0, 0, 0, 0, 0, 0, 0, 0, 0, 0,\n",
       "       0, 0, 0, 1, 1, 1, 0, 0, 0, 0, 0, 0, 0, 0, 0, 0, 0, 0, 0, 0, 0, 0,\n",
       "       0, 0, 0, 0, 0, 0, 0, 0, 0, 0, 0, 0, 0, 0, 0, 0, 0, 0, 0, 0, 0, 0,\n",
       "       0, 0, 0, 0, 0, 0, 0, 0, 1, 1, 1, 1, 1, 1, 1, 0, 0, 0, 0, 0, 0, 0,\n",
       "       0, 0, 0, 0, 0, 0, 0, 0, 0, 0, 0, 0, 0, 0, 0, 0, 0, 0, 0, 0, 0, 0,\n",
       "       0, 0, 0, 0, 0, 0, 0, 0, 0, 0, 0, 0, 0, 0, 0, 0, 0, 0, 0, 0, 0, 0,\n",
       "       0, 0, 0, 0, 0, 0, 0, 0, 0, 0, 0, 0, 0, 0, 0, 0, 0, 0, 0, 0, 0, 0,\n",
       "       0, 0, 0, 0, 0, 0, 0, 0, 0, 0, 0, 0, 0, 0, 0, 0, 0, 0, 0, 0, 0, 0,\n",
       "       0, 0, 0, 0, 0, 0, 0, 0, 0, 0, 0, 0, 0, 0, 0, 0, 0, 0, 0, 0, 0, 0,\n",
       "       0, 0, 0, 0, 0, 0, 0, 0, 0, 0, 0, 0, 0, 0, 0, 0, 0, 0, 0, 0, 0, 0,\n",
       "       0, 0, 0, 0, 0, 0, 0, 0, 0, 0, 0, 0, 0, 0, 0, 0, 0, 0, 0, 0, 0, 0,\n",
       "       0, 0, 0, 0, 0, 1, 1, 1, 1, 1, 1, 1, 1, 1, 1, 1, 1, 1, 1, 1, 1, 1,\n",
       "       1, 1, 1, 1, 1, 1, 1, 1, 1, 1, 1, 1, 1, 1, 1, 1, 0, 0, 0, 0, 0, 0,\n",
       "       0, 0, 0, 0, 0, 0, 0, 0, 0, 0, 0, 0, 0, 0, 0, 0, 0, 0, 1, 1, 1, 1,\n",
       "       1, 1, 1, 1, 1, 1, 1, 1, 1, 1, 1, 1, 1, 1, 1, 1, 1, 1, 1, 1, 1, 1,\n",
       "       1, 1, 1, 1, 1, 1, 1, 1, 1, 1, 1, 1, 1, 1, 1, 1, 1, 1, 1, 1, 1, 1,\n",
       "       1, 1, 1, 1, 1, 1, 0, 0, 0, 0, 0, 1, 0, 0, 0, 0, 0, 0, 0, 0, 0, 0,\n",
       "       0, 0, 0, 0, 1, 1, 0, 0, 0, 0, 0, 0, 0, 0, 0, 0, 0, 0, 0, 0, 0, 0,\n",
       "       0, 0, 0, 0, 0, 0, 0, 0, 0, 0, 0, 0, 0, 0, 0, 0, 0, 0, 0, 0, 0, 0,\n",
       "       0, 0, 0, 0, 0, 0, 0, 0, 0, 0, 0, 0, 0, 0, 0, 0, 0, 0, 0, 0, 0, 0,\n",
       "       0, 0, 0, 0, 0, 0, 0], dtype=int64)"
      ]
     },
     "execution_count": 13,
     "metadata": {},
     "output_type": "execute_result"
    }
   ],
   "source": [
    "df.approvalstatus.values"
   ]
  },
  {
   "cell_type": "code",
   "execution_count": null,
   "metadata": {},
   "outputs": [],
   "source": [
    "# find correlations in the data - optional\n",
    "matrix = df.corr()\n",
    "matrix"
   ]
  },
  {
   "cell_type": "markdown",
   "metadata": {},
   "source": [
    "Split df and set random state"
   ]
  },
  {
   "cell_type": "code",
   "execution_count": 44,
   "metadata": {},
   "outputs": [],
   "source": [
    "df_full_train, df_test = train_test_split(df, test_size=0.2, random_state=2)\n",
    "df_train, df_val = train_test_split(df_full_train, test_size=0.25, random_state=2)\n",
    "len(df_full_train), len(df_test), len(df_train), len(df_val)\n",
    "\n",
    "df_train = df_train.reset_index(drop=True)\n",
    "df_val = df_val.reset_index(drop=True)\n",
    "df_test = df_test.reset_index(drop=True)\n",
    "\n",
    "target = 'approvalstatus'\n",
    "y_full_train = df_full_train[target]\n",
    "y_test = df_test[target]\n",
    "y_train = df_train[target]\n",
    "y_val = df_val[target]\n",
    "\n",
    "del df_full_train[target]\n",
    "del df_test[target]\n",
    "del df_train[target]\n",
    "del df_val[target]"
   ]
  },
  {
   "cell_type": "markdown",
   "metadata": {},
   "source": [
    "Train Logistic Regression and validate model"
   ]
  },
  {
   "cell_type": "code",
   "execution_count": 15,
   "metadata": {},
   "outputs": [],
   "source": [
    "dv = DictVectorizer(sparse=False)\n",
    "\n",
    "train_dict = df_train.to_dict(orient='records')\n",
    "X_train = dv.fit_transform(train_dict)\n",
    "\n",
    "val_dict = df_val.to_dict(orient='records')\n",
    "X_val = dv.transform(val_dict)\n"
   ]
  },
  {
   "cell_type": "code",
   "execution_count": 40,
   "metadata": {},
   "outputs": [
    {
     "data": {
      "text/html": [
       "<style>#sk-container-id-3 {color: black;}#sk-container-id-3 pre{padding: 0;}#sk-container-id-3 div.sk-toggleable {background-color: white;}#sk-container-id-3 label.sk-toggleable__label {cursor: pointer;display: block;width: 100%;margin-bottom: 0;padding: 0.3em;box-sizing: border-box;text-align: center;}#sk-container-id-3 label.sk-toggleable__label-arrow:before {content: \"▸\";float: left;margin-right: 0.25em;color: #696969;}#sk-container-id-3 label.sk-toggleable__label-arrow:hover:before {color: black;}#sk-container-id-3 div.sk-estimator:hover label.sk-toggleable__label-arrow:before {color: black;}#sk-container-id-3 div.sk-toggleable__content {max-height: 0;max-width: 0;overflow: hidden;text-align: left;background-color: #f0f8ff;}#sk-container-id-3 div.sk-toggleable__content pre {margin: 0.2em;color: black;border-radius: 0.25em;background-color: #f0f8ff;}#sk-container-id-3 input.sk-toggleable__control:checked~div.sk-toggleable__content {max-height: 200px;max-width: 100%;overflow: auto;}#sk-container-id-3 input.sk-toggleable__control:checked~label.sk-toggleable__label-arrow:before {content: \"▾\";}#sk-container-id-3 div.sk-estimator input.sk-toggleable__control:checked~label.sk-toggleable__label {background-color: #d4ebff;}#sk-container-id-3 div.sk-label input.sk-toggleable__control:checked~label.sk-toggleable__label {background-color: #d4ebff;}#sk-container-id-3 input.sk-hidden--visually {border: 0;clip: rect(1px 1px 1px 1px);clip: rect(1px, 1px, 1px, 1px);height: 1px;margin: -1px;overflow: hidden;padding: 0;position: absolute;width: 1px;}#sk-container-id-3 div.sk-estimator {font-family: monospace;background-color: #f0f8ff;border: 1px dotted black;border-radius: 0.25em;box-sizing: border-box;margin-bottom: 0.5em;}#sk-container-id-3 div.sk-estimator:hover {background-color: #d4ebff;}#sk-container-id-3 div.sk-parallel-item::after {content: \"\";width: 100%;border-bottom: 1px solid gray;flex-grow: 1;}#sk-container-id-3 div.sk-label:hover label.sk-toggleable__label {background-color: #d4ebff;}#sk-container-id-3 div.sk-serial::before {content: \"\";position: absolute;border-left: 1px solid gray;box-sizing: border-box;top: 0;bottom: 0;left: 50%;z-index: 0;}#sk-container-id-3 div.sk-serial {display: flex;flex-direction: column;align-items: center;background-color: white;padding-right: 0.2em;padding-left: 0.2em;position: relative;}#sk-container-id-3 div.sk-item {position: relative;z-index: 1;}#sk-container-id-3 div.sk-parallel {display: flex;align-items: stretch;justify-content: center;background-color: white;position: relative;}#sk-container-id-3 div.sk-item::before, #sk-container-id-3 div.sk-parallel-item::before {content: \"\";position: absolute;border-left: 1px solid gray;box-sizing: border-box;top: 0;bottom: 0;left: 50%;z-index: -1;}#sk-container-id-3 div.sk-parallel-item {display: flex;flex-direction: column;z-index: 1;position: relative;background-color: white;}#sk-container-id-3 div.sk-parallel-item:first-child::after {align-self: flex-end;width: 50%;}#sk-container-id-3 div.sk-parallel-item:last-child::after {align-self: flex-start;width: 50%;}#sk-container-id-3 div.sk-parallel-item:only-child::after {width: 0;}#sk-container-id-3 div.sk-dashed-wrapped {border: 1px dashed gray;margin: 0 0.4em 0.5em 0.4em;box-sizing: border-box;padding-bottom: 0.4em;background-color: white;}#sk-container-id-3 div.sk-label label {font-family: monospace;font-weight: bold;display: inline-block;line-height: 1.2em;}#sk-container-id-3 div.sk-label-container {text-align: center;}#sk-container-id-3 div.sk-container {/* jupyter's `normalize.less` sets `[hidden] { display: none; }` but bootstrap.min.css set `[hidden] { display: none !important; }` so we also need the `!important` here to be able to override the default hidden behavior on the sphinx rendered scikit-learn.org. See: https://github.com/scikit-learn/scikit-learn/issues/21755 */display: inline-block !important;position: relative;}#sk-container-id-3 div.sk-text-repr-fallback {display: none;}</style><div id=\"sk-container-id-3\" class=\"sk-top-container\"><div class=\"sk-text-repr-fallback\"><pre>LogisticRegression(C=0.1, max_iter=1000, random_state=2, solver=&#x27;liblinear&#x27;)</pre><b>In a Jupyter environment, please rerun this cell to show the HTML representation or trust the notebook. <br />On GitHub, the HTML representation is unable to render, please try loading this page with nbviewer.org.</b></div><div class=\"sk-container\" hidden><div class=\"sk-item\"><div class=\"sk-estimator sk-toggleable\"><input class=\"sk-toggleable__control sk-hidden--visually\" id=\"sk-estimator-id-3\" type=\"checkbox\" checked><label for=\"sk-estimator-id-3\" class=\"sk-toggleable__label sk-toggleable__label-arrow\">LogisticRegression</label><div class=\"sk-toggleable__content\"><pre>LogisticRegression(C=0.1, max_iter=1000, random_state=2, solver=&#x27;liblinear&#x27;)</pre></div></div></div></div></div>"
      ],
      "text/plain": [
       "LogisticRegression(C=0.1, max_iter=1000, random_state=2, solver='liblinear')"
      ]
     },
     "execution_count": 40,
     "metadata": {},
     "output_type": "execute_result"
    }
   ],
   "source": [
    "model = LogisticRegression(solver='liblinear', C=0.1, max_iter=1000, random_state=2)\n",
    "model.fit(X_train, y_train)"
   ]
  },
  {
   "cell_type": "code",
   "execution_count": 41,
   "metadata": {},
   "outputs": [
    {
     "data": {
      "text/plain": [
       "0.8478260869565217"
      ]
     },
     "execution_count": 41,
     "metadata": {},
     "output_type": "execute_result"
    }
   ],
   "source": [
    "y_pred = model.predict_proba(X_val)[:,1]\n",
    "y_pred_bool = (y_pred >= 0.5).astype(int)\n",
    "(y_val == y_pred_bool).mean()"
   ]
  },
  {
   "cell_type": "code",
   "execution_count": 42,
   "metadata": {},
   "outputs": [
    {
     "data": {
      "text/plain": [
       "0.8478"
      ]
     },
     "execution_count": 42,
     "metadata": {},
     "output_type": "execute_result"
    }
   ],
   "source": [
    "df_pred = pd.DataFrame()\n",
    "df_pred['actual'] = y_val\n",
    "df_pred['probability'] = y_pred\n",
    "df_pred['prediction'] = y_pred_bool.astype(int)\n",
    "df_pred['correct'] = df_pred.prediction == df_pred.actual\n",
    "df_pred.correct.mean().round(4)"
   ]
  },
  {
   "cell_type": "code",
   "execution_count": 43,
   "metadata": {},
   "outputs": [
    {
     "data": {
      "text/plain": [
       "0.8431977858207367"
      ]
     },
     "execution_count": 43,
     "metadata": {},
     "output_type": "execute_result"
    }
   ],
   "source": [
    "roc_auc_score(y_val,y_pred_bool)"
   ]
  },
  {
   "cell_type": "markdown",
   "metadata": {},
   "source": [
    "Model Evaluation - AUC, thresholds, f-score, kfold to refine c"
   ]
  },
  {
   "cell_type": "code",
   "execution_count": 40,
   "metadata": {},
   "outputs": [
    {
     "data": {
      "text/html": [
       "<div>\n",
       "<style scoped>\n",
       "    .dataframe tbody tr th:only-of-type {\n",
       "        vertical-align: middle;\n",
       "    }\n",
       "\n",
       "    .dataframe tbody tr th {\n",
       "        vertical-align: top;\n",
       "    }\n",
       "\n",
       "    .dataframe thead th {\n",
       "        text-align: right;\n",
       "    }\n",
       "</style>\n",
       "<table border=\"1\" class=\"dataframe\">\n",
       "  <thead>\n",
       "    <tr style=\"text-align: right;\">\n",
       "      <th></th>\n",
       "      <th>thresholds</th>\n",
       "      <th>prec</th>\n",
       "      <th>rec</th>\n",
       "    </tr>\n",
       "  </thead>\n",
       "  <tbody>\n",
       "    <tr>\n",
       "      <th>0</th>\n",
       "      <td>0.00</td>\n",
       "      <td>0.442029</td>\n",
       "      <td>1.000000</td>\n",
       "    </tr>\n",
       "    <tr>\n",
       "      <th>1</th>\n",
       "      <td>0.01</td>\n",
       "      <td>0.448529</td>\n",
       "      <td>1.000000</td>\n",
       "    </tr>\n",
       "    <tr>\n",
       "      <th>2</th>\n",
       "      <td>0.02</td>\n",
       "      <td>0.476190</td>\n",
       "      <td>0.983607</td>\n",
       "    </tr>\n",
       "    <tr>\n",
       "      <th>3</th>\n",
       "      <td>0.03</td>\n",
       "      <td>0.513043</td>\n",
       "      <td>0.967213</td>\n",
       "    </tr>\n",
       "    <tr>\n",
       "      <th>4</th>\n",
       "      <td>0.04</td>\n",
       "      <td>0.551402</td>\n",
       "      <td>0.967213</td>\n",
       "    </tr>\n",
       "    <tr>\n",
       "      <th>...</th>\n",
       "      <td>...</td>\n",
       "      <td>...</td>\n",
       "      <td>...</td>\n",
       "    </tr>\n",
       "    <tr>\n",
       "      <th>95</th>\n",
       "      <td>0.95</td>\n",
       "      <td>1.000000</td>\n",
       "      <td>0.245902</td>\n",
       "    </tr>\n",
       "    <tr>\n",
       "      <th>96</th>\n",
       "      <td>0.96</td>\n",
       "      <td>1.000000</td>\n",
       "      <td>0.245902</td>\n",
       "    </tr>\n",
       "    <tr>\n",
       "      <th>97</th>\n",
       "      <td>0.97</td>\n",
       "      <td>1.000000</td>\n",
       "      <td>0.180328</td>\n",
       "    </tr>\n",
       "    <tr>\n",
       "      <th>98</th>\n",
       "      <td>0.98</td>\n",
       "      <td>1.000000</td>\n",
       "      <td>0.147541</td>\n",
       "    </tr>\n",
       "    <tr>\n",
       "      <th>99</th>\n",
       "      <td>0.99</td>\n",
       "      <td>1.000000</td>\n",
       "      <td>0.114754</td>\n",
       "    </tr>\n",
       "  </tbody>\n",
       "</table>\n",
       "<p>100 rows × 3 columns</p>\n",
       "</div>"
      ],
      "text/plain": [
       "    thresholds      prec       rec\n",
       "0         0.00  0.442029  1.000000\n",
       "1         0.01  0.448529  1.000000\n",
       "2         0.02  0.476190  0.983607\n",
       "3         0.03  0.513043  0.967213\n",
       "4         0.04  0.551402  0.967213\n",
       "..         ...       ...       ...\n",
       "95        0.95  1.000000  0.245902\n",
       "96        0.96  1.000000  0.245902\n",
       "97        0.97  1.000000  0.180328\n",
       "98        0.98  1.000000  0.147541\n",
       "99        0.99  1.000000  0.114754\n",
       "\n",
       "[100 rows x 3 columns]"
      ]
     },
     "execution_count": 40,
     "metadata": {},
     "output_type": "execute_result"
    }
   ],
   "source": [
    "thresholds = np.arange(0, 1.0, 0.01)\n",
    "prec = []\n",
    "rec = []\n",
    "for t in thresholds:\n",
    "\n",
    "    actual_positive = (y_val == 1)\n",
    "    actual_negative = (y_val == 0)\n",
    "\n",
    "    predict_positive = (y_pred >= t)\n",
    "    predict_negative = (y_pred < t)\n",
    "\n",
    "    tp = (predict_positive & actual_positive).sum()\n",
    "    tn = (predict_negative & actual_negative).sum()\n",
    "\n",
    "    fp = (predict_positive & actual_negative).sum()\n",
    "    fn = (predict_negative & actual_positive).sum()\n",
    "\n",
    "    p = tp / (tp + fp)\n",
    "    r = tp / (tp + fn)\n",
    "\n",
    "    prec.append(p)\n",
    "    rec.append(r)\n",
    "\n",
    "columns = [ 'thresholds','prec', 'rec']\n",
    "scores = [thresholds, prec, rec]\n",
    "#df['column_name']=pd.Series(arr)\n",
    "df_scores = pd.DataFrame(scores, columns)\n",
    "df_scores = df_scores.T\n",
    "df_scores"
   ]
  },
  {
   "cell_type": "code",
   "execution_count": 43,
   "metadata": {},
   "outputs": [
    {
     "data": {
      "text/plain": [
       "<matplotlib.legend.Legend at 0x25c3956f670>"
      ]
     },
     "execution_count": 43,
     "metadata": {},
     "output_type": "execute_result"
    },
    {
     "data": {
      "image/png": "[encoded data removed]",
      "text/plain": [
       "<Figure size 432x288 with 1 Axes>"
      ]
     },
     "metadata": {
      "needs_background": "light"
     },
     "output_type": "display_data"
    }
   ],
   "source": [
    "plt.plot(df_scores.thresholds, df_scores['prec'], label='prec')\n",
    "plt.plot(df_scores.thresholds, df_scores['rec'], label='rec')\n",
    "plt.legend()"
   ]
  },
  {
   "cell_type": "code",
   "execution_count": 44,
   "metadata": {},
   "outputs": [],
   "source": [
    "def f1_score(p,r):\n",
    "    a = p*r\n",
    "    b = p+r\n",
    "    c = a/b\n",
    "    f1 = 2*c\n",
    "    return f1"
   ]
  },
  {
   "cell_type": "code",
   "execution_count": 45,
   "metadata": {},
   "outputs": [
    {
     "data": {
      "text/html": [
       "<div>\n",
       "<style scoped>\n",
       "    .dataframe tbody tr th:only-of-type {\n",
       "        vertical-align: middle;\n",
       "    }\n",
       "\n",
       "    .dataframe tbody tr th {\n",
       "        vertical-align: top;\n",
       "    }\n",
       "\n",
       "    .dataframe thead th {\n",
       "        text-align: right;\n",
       "    }\n",
       "</style>\n",
       "<table border=\"1\" class=\"dataframe\">\n",
       "  <thead>\n",
       "    <tr style=\"text-align: right;\">\n",
       "      <th></th>\n",
       "      <th>thresholds</th>\n",
       "      <th>prec</th>\n",
       "      <th>rec</th>\n",
       "      <th>f1_score</th>\n",
       "    </tr>\n",
       "  </thead>\n",
       "  <tbody>\n",
       "    <tr>\n",
       "      <th>30</th>\n",
       "      <td>0.30</td>\n",
       "      <td>0.8</td>\n",
       "      <td>0.918033</td>\n",
       "      <td>0.854962</td>\n",
       "    </tr>\n",
       "    <tr>\n",
       "      <th>31</th>\n",
       "      <td>0.31</td>\n",
       "      <td>0.8</td>\n",
       "      <td>0.918033</td>\n",
       "      <td>0.854962</td>\n",
       "    </tr>\n",
       "    <tr>\n",
       "      <th>32</th>\n",
       "      <td>0.32</td>\n",
       "      <td>0.8</td>\n",
       "      <td>0.918033</td>\n",
       "      <td>0.854962</td>\n",
       "    </tr>\n",
       "    <tr>\n",
       "      <th>33</th>\n",
       "      <td>0.33</td>\n",
       "      <td>0.8</td>\n",
       "      <td>0.918033</td>\n",
       "      <td>0.854962</td>\n",
       "    </tr>\n",
       "    <tr>\n",
       "      <th>34</th>\n",
       "      <td>0.34</td>\n",
       "      <td>0.8</td>\n",
       "      <td>0.918033</td>\n",
       "      <td>0.854962</td>\n",
       "    </tr>\n",
       "    <tr>\n",
       "      <th>35</th>\n",
       "      <td>0.35</td>\n",
       "      <td>0.8</td>\n",
       "      <td>0.918033</td>\n",
       "      <td>0.854962</td>\n",
       "    </tr>\n",
       "    <tr>\n",
       "      <th>36</th>\n",
       "      <td>0.36</td>\n",
       "      <td>0.8</td>\n",
       "      <td>0.918033</td>\n",
       "      <td>0.854962</td>\n",
       "    </tr>\n",
       "    <tr>\n",
       "      <th>37</th>\n",
       "      <td>0.37</td>\n",
       "      <td>0.8</td>\n",
       "      <td>0.918033</td>\n",
       "      <td>0.854962</td>\n",
       "    </tr>\n",
       "  </tbody>\n",
       "</table>\n",
       "</div>"
      ],
      "text/plain": [
       "    thresholds  prec       rec  f1_score\n",
       "30        0.30   0.8  0.918033  0.854962\n",
       "31        0.31   0.8  0.918033  0.854962\n",
       "32        0.32   0.8  0.918033  0.854962\n",
       "33        0.33   0.8  0.918033  0.854962\n",
       "34        0.34   0.8  0.918033  0.854962\n",
       "35        0.35   0.8  0.918033  0.854962\n",
       "36        0.36   0.8  0.918033  0.854962\n",
       "37        0.37   0.8  0.918033  0.854962"
      ]
     },
     "execution_count": 45,
     "metadata": {},
     "output_type": "execute_result"
    }
   ],
   "source": [
    "df_scores['f1_score'] = df_scores.apply(lambda x: f1_score(x['prec'],x['rec']), axis = 1)\n",
    "df_scores[df_scores['f1_score'] == df_scores['f1_score'].max()]"
   ]
  },
  {
   "cell_type": "code",
   "execution_count": 46,
   "metadata": {},
   "outputs": [],
   "source": [
    "def train(df_train, y_train, C=1.0):\n",
    "\n",
    "    dicts = df_train.to_dict(orient='records')\n",
    "    dv = DictVectorizer(sparse=False)\n",
    "    X_train = dv.fit_transform(dicts)\n",
    "    \n",
    "    model = LogisticRegression(solver = 'liblinear', C=C, max_iter=1000)\n",
    "    model.fit(X_train, y_train)\n",
    "    \n",
    "    return dv, model"
   ]
  },
  {
   "cell_type": "code",
   "execution_count": 47,
   "metadata": {},
   "outputs": [],
   "source": [
    "def predict(df, dv, model):\n",
    "    dicts = df.to_dict(orient='records')\n",
    "    X = dv.transform(dicts)\n",
    "    y_pred = model.predict_proba(X)[:, 1]\n",
    "\n",
    "    return y_pred"
   ]
  },
  {
   "cell_type": "code",
   "execution_count": 50,
   "metadata": {},
   "outputs": [],
   "source": [
    "df_full_train, df_test = train_test_split(df, test_size=0.2, random_state=2)\n",
    "\n"
   ]
  },
  {
   "cell_type": "code",
   "execution_count": 52,
   "metadata": {},
   "outputs": [
    {
     "data": {
      "application/vnd.jupyter.widget-view+json": {
       "model_id": "d83ae51b417449b4b66e315d55ebbc5e",
       "version_major": 2,
       "version_minor": 0
      },
      "text/plain": [
       "  0%|          | 0/6 [00:00<?, ?it/s]"
      ]
     },
     "metadata": {},
     "output_type": "display_data"
    },
    {
     "name": "stdout",
     "output_type": "stream",
     "text": [
      "C=0.01 0.959 +- 0.014\n",
      "C=0.1 0.997 +- 0.004\n",
      "C=0.3 1.000 +- 0.000\n",
      "C=0.4 1.000 +- 0.000\n",
      "C=0.5 1.000 +- 0.000\n",
      "C=10 1.000 +- 0.000\n"
     ]
    }
   ],
   "source": [
    "n_splits = 5\n",
    "\n",
    "for C in tqdm([0.01, 0.1, 0.3, 0.4, 0.5, 10]):\n",
    "    kfold = KFold(n_splits=n_splits, shuffle=True, random_state=1)\n",
    "\n",
    "    scores = []\n",
    "\n",
    "    for train_idx, val_idx in kfold.split(df_full_train):\n",
    "        df_train = df_full_train.iloc[train_idx]\n",
    "        df_val = df_full_train.iloc[val_idx]\n",
    "\n",
    "        y_train = df_train.approvalstatus.values\n",
    "        y_val = df_val.approvalstatus.values\n",
    "\n",
    "        dv, model = train(df_train, y_train, C=C)\n",
    "        y_pred = predict(df_val, dv, model)\n",
    "\n",
    "        auc = roc_auc_score(y_val, y_pred)\n",
    "        scores.append(auc)\n",
    "\n",
    "    print('C=%s %.3f +- %.3f' % (C, np.mean(scores), np.std(scores)))"
   ]
  },
  {
   "cell_type": "markdown",
   "metadata": {},
   "source": [
    "Tree-based Models - RF and XGBoost"
   ]
  },
  {
   "cell_type": "code",
   "execution_count": 21,
   "metadata": {},
   "outputs": [],
   "source": [
    "from sklearn.ensemble import RandomForestClassifier\n",
    "from sklearn.feature_extraction import DictVectorizer\n",
    "from sklearn.metrics import roc_auc_score\n",
    "from sklearn.tree import export_text\n",
    "import xgboost as xgb"
   ]
  },
  {
   "cell_type": "code",
   "execution_count": 22,
   "metadata": {},
   "outputs": [],
   "source": [
    "dv = DictVectorizer(sparse=False)\n",
    "train_dicts = df_train.fillna(0).to_dict(orient='records')\n",
    "X_train = dv.fit_transform(train_dicts)\n",
    "\n",
    "val_dicts = df_val.fillna(0).to_dict(orient='records')\n",
    "X_val = dv.transform(val_dicts)"
   ]
  },
  {
   "cell_type": "code",
   "execution_count": 23,
   "metadata": {},
   "outputs": [
    {
     "data": {
      "text/html": [
       "<style>#sk-container-id-2 {color: black;}#sk-container-id-2 pre{padding: 0;}#sk-container-id-2 div.sk-toggleable {background-color: white;}#sk-container-id-2 label.sk-toggleable__label {cursor: pointer;display: block;width: 100%;margin-bottom: 0;padding: 0.3em;box-sizing: border-box;text-align: center;}#sk-container-id-2 label.sk-toggleable__label-arrow:before {content: \"▸\";float: left;margin-right: 0.25em;color: #696969;}#sk-container-id-2 label.sk-toggleable__label-arrow:hover:before {color: black;}#sk-container-id-2 div.sk-estimator:hover label.sk-toggleable__label-arrow:before {color: black;}#sk-container-id-2 div.sk-toggleable__content {max-height: 0;max-width: 0;overflow: hidden;text-align: left;background-color: #f0f8ff;}#sk-container-id-2 div.sk-toggleable__content pre {margin: 0.2em;color: black;border-radius: 0.25em;background-color: #f0f8ff;}#sk-container-id-2 input.sk-toggleable__control:checked~div.sk-toggleable__content {max-height: 200px;max-width: 100%;overflow: auto;}#sk-container-id-2 input.sk-toggleable__control:checked~label.sk-toggleable__label-arrow:before {content: \"▾\";}#sk-container-id-2 div.sk-estimator input.sk-toggleable__control:checked~label.sk-toggleable__label {background-color: #d4ebff;}#sk-container-id-2 div.sk-label input.sk-toggleable__control:checked~label.sk-toggleable__label {background-color: #d4ebff;}#sk-container-id-2 input.sk-hidden--visually {border: 0;clip: rect(1px 1px 1px 1px);clip: rect(1px, 1px, 1px, 1px);height: 1px;margin: -1px;overflow: hidden;padding: 0;position: absolute;width: 1px;}#sk-container-id-2 div.sk-estimator {font-family: monospace;background-color: #f0f8ff;border: 1px dotted black;border-radius: 0.25em;box-sizing: border-box;margin-bottom: 0.5em;}#sk-container-id-2 div.sk-estimator:hover {background-color: #d4ebff;}#sk-container-id-2 div.sk-parallel-item::after {content: \"\";width: 100%;border-bottom: 1px solid gray;flex-grow: 1;}#sk-container-id-2 div.sk-label:hover label.sk-toggleable__label {background-color: #d4ebff;}#sk-container-id-2 div.sk-serial::before {content: \"\";position: absolute;border-left: 1px solid gray;box-sizing: border-box;top: 0;bottom: 0;left: 50%;z-index: 0;}#sk-container-id-2 div.sk-serial {display: flex;flex-direction: column;align-items: center;background-color: white;padding-right: 0.2em;padding-left: 0.2em;position: relative;}#sk-container-id-2 div.sk-item {position: relative;z-index: 1;}#sk-container-id-2 div.sk-parallel {display: flex;align-items: stretch;justify-content: center;background-color: white;position: relative;}#sk-container-id-2 div.sk-item::before, #sk-container-id-2 div.sk-parallel-item::before {content: \"\";position: absolute;border-left: 1px solid gray;box-sizing: border-box;top: 0;bottom: 0;left: 50%;z-index: -1;}#sk-container-id-2 div.sk-parallel-item {display: flex;flex-direction: column;z-index: 1;position: relative;background-color: white;}#sk-container-id-2 div.sk-parallel-item:first-child::after {align-self: flex-end;width: 50%;}#sk-container-id-2 div.sk-parallel-item:last-child::after {align-self: flex-start;width: 50%;}#sk-container-id-2 div.sk-parallel-item:only-child::after {width: 0;}#sk-container-id-2 div.sk-dashed-wrapped {border: 1px dashed gray;margin: 0 0.4em 0.5em 0.4em;box-sizing: border-box;padding-bottom: 0.4em;background-color: white;}#sk-container-id-2 div.sk-label label {font-family: monospace;font-weight: bold;display: inline-block;line-height: 1.2em;}#sk-container-id-2 div.sk-label-container {text-align: center;}#sk-container-id-2 div.sk-container {/* jupyter's `normalize.less` sets `[hidden] { display: none; }` but bootstrap.min.css set `[hidden] { display: none !important; }` so we also need the `!important` here to be able to override the default hidden behavior on the sphinx rendered scikit-learn.org. See: https://github.com/scikit-learn/scikit-learn/issues/21755 */display: inline-block !important;position: relative;}#sk-container-id-2 div.sk-text-repr-fallback {display: none;}</style><div id=\"sk-container-id-2\" class=\"sk-top-container\"><div class=\"sk-text-repr-fallback\"><pre>RandomForestClassifier(max_depth=10)</pre><b>In a Jupyter environment, please rerun this cell to show the HTML representation or trust the notebook. <br />On GitHub, the HTML representation is unable to render, please try loading this page with nbviewer.org.</b></div><div class=\"sk-container\" hidden><div class=\"sk-item\"><div class=\"sk-estimator sk-toggleable\"><input class=\"sk-toggleable__control sk-hidden--visually\" id=\"sk-estimator-id-2\" type=\"checkbox\" checked><label for=\"sk-estimator-id-2\" class=\"sk-toggleable__label sk-toggleable__label-arrow\">RandomForestClassifier</label><div class=\"sk-toggleable__content\"><pre>RandomForestClassifier(max_depth=10)</pre></div></div></div></div></div>"
      ],
      "text/plain": [
       "RandomForestClassifier(max_depth=10)"
      ]
     },
     "execution_count": 23,
     "metadata": {},
     "output_type": "execute_result"
    }
   ],
   "source": [
    "rf = RandomForestClassifier(max_depth = 10)\n",
    "rf.fit(X_train, y_train)"
   ]
  },
  {
   "cell_type": "code",
   "execution_count": 24,
   "metadata": {},
   "outputs": [
    {
     "data": {
      "text/plain": [
       "0.851394507132212"
      ]
     },
     "execution_count": 24,
     "metadata": {},
     "output_type": "execute_result"
    }
   ],
   "source": [
    "y_pred = rf.predict(X_val)\n",
    "roc_auc_score(y_val, y_pred)\n"
   ]
  },
  {
   "cell_type": "markdown",
   "metadata": {},
   "source": [
    "##### Test different parameters - RF"
   ]
  },
  {
   "cell_type": "code",
   "execution_count": 25,
   "metadata": {},
   "outputs": [
    {
     "data": {
      "text/plain": [
       "[<matplotlib.lines.Line2D at 0x19614ff4a30>]"
      ]
     },
     "execution_count": 25,
     "metadata": {},
     "output_type": "execute_result"
    },
    {
     "data": {
      "image/png": "[encoded data removed]",
      "text/plain": [
       "<Figure size 432x288 with 1 Axes>"
      ]
     },
     "metadata": {
      "needs_background": "light"
     },
     "output_type": "display_data"
    }
   ],
   "source": [
    "scores = []\n",
    "\n",
    "for n in range (10, 201, 10):\n",
    "    rf = RandomForestClassifier(n_estimators=n, random_state=1, n_jobs=-1)\n",
    "    rf.fit(X_train, y_train)\n",
    "    y_pred = rf.predict(X_val)  \n",
    "    scores.append((n, roc_auc_score(y_val, y_pred)))\n",
    "\n",
    "df_scores = pd.DataFrame(scores, columns=['n_estimators', 'roc_auc_score'])\n",
    "plt.plot(df_scores.n_estimators, df_scores.roc_auc_score)    "
   ]
  },
  {
   "cell_type": "code",
   "execution_count": 26,
   "metadata": {},
   "outputs": [],
   "source": [
    "values = [10, 15, 20, 25]\n",
    "scores = []\n",
    "for v in values:\n",
    "    for n in range (10, 201, 10):\n",
    "        rf = RandomForestClassifier(n_estimators=n, random_state=1, n_jobs=-1, max_depth = v)\n",
    "        rf.fit(X_train, y_train)\n",
    "        y_pred = rf.predict(X_val)  \n",
    "        scores.append((v, n, roc_auc_score(y_val, y_pred)))\n",
    "        \n",
    "df_depth_scores = pd.DataFrame(scores, columns = ['depth', 'estimators', 'roc_auc_score'] )        "
   ]
  },
  {
   "cell_type": "code",
   "execution_count": 34,
   "metadata": {},
   "outputs": [
    {
     "data": {
      "text/plain": [
       "0.8872684692356824"
      ]
     },
     "execution_count": 34,
     "metadata": {},
     "output_type": "execute_result"
    }
   ],
   "source": [
    "df_depth_scores.roc_auc_score.max()"
   ]
  },
  {
   "cell_type": "code",
   "execution_count": 36,
   "metadata": {},
   "outputs": [
    {
     "data": {
      "text/html": [
       "<div>\n",
       "<style scoped>\n",
       "    .dataframe tbody tr th:only-of-type {\n",
       "        vertical-align: middle;\n",
       "    }\n",
       "\n",
       "    .dataframe tbody tr th {\n",
       "        vertical-align: top;\n",
       "    }\n",
       "\n",
       "    .dataframe thead th {\n",
       "        text-align: right;\n",
       "    }\n",
       "</style>\n",
       "<table border=\"1\" class=\"dataframe\">\n",
       "  <thead>\n",
       "    <tr style=\"text-align: right;\">\n",
       "      <th></th>\n",
       "      <th>depth</th>\n",
       "      <th>estimators</th>\n",
       "      <th>roc_auc_score</th>\n",
       "    </tr>\n",
       "  </thead>\n",
       "  <tbody>\n",
       "    <tr>\n",
       "      <th>60</th>\n",
       "      <td>25</td>\n",
       "      <td>10</td>\n",
       "      <td>0.887268</td>\n",
       "    </tr>\n",
       "  </tbody>\n",
       "</table>\n",
       "</div>"
      ],
      "text/plain": [
       "    depth  estimators  roc_auc_score\n",
       "60     25          10       0.887268"
      ]
     },
     "execution_count": 36,
     "metadata": {},
     "output_type": "execute_result"
    }
   ],
   "source": [
    "df_depth_scores[df_depth_scores['roc_auc_score'] == 0.8872684692356824]"
   ]
  },
  {
   "cell_type": "code",
   "execution_count": 39,
   "metadata": {},
   "outputs": [
    {
     "data": {
      "text/plain": [
       "0.8872684692356824"
      ]
     },
     "execution_count": 39,
     "metadata": {},
     "output_type": "execute_result"
    }
   ],
   "source": [
    "rf = RandomForestClassifier(n_estimators=10, random_state=1, n_jobs=-1, max_depth = 25)\n",
    "rf.fit(X_train, y_train)\n",
    "y_pred = rf.predict(X_val)  \n",
    "\n",
    "roc_auc_score(y_val, y_pred)\n",
    "\n"
   ]
  },
  {
   "cell_type": "markdown",
   "metadata": {},
   "source": [
    "Train XGBoost"
   ]
  },
  {
   "cell_type": "code",
   "execution_count": 45,
   "metadata": {},
   "outputs": [
    {
     "name": "stderr",
     "output_type": "stream",
     "text": [
      "c:\\Users\\rlong\\AppData\\Local\\Programs\\Python\\Python310\\lib\\site-packages\\xgboost\\data.py:520: FutureWarning: is_sparse is deprecated and will be removed in a future version. Check `isinstance(dtype, pd.SparseDtype)` instead.\n",
      "  if is_sparse(data):\n"
     ]
    }
   ],
   "source": [
    "features = dv.get_feature_names_out()\n",
    "dtrain = xgb.DMatrix(X_train, label=y_train)\n",
    "dval = xgb.DMatrix(X_val, label=y_val)"
   ]
  },
  {
   "cell_type": "code",
   "execution_count": 48,
   "metadata": {},
   "outputs": [
    {
     "name": "stdout",
     "output_type": "stream",
     "text": [
      "[0]\ttrain-rmse:0.38505\tval-rmse:0.42090\n",
      "[1]\ttrain-rmse:0.30568\tval-rmse:0.37547\n"
     ]
    },
    {
     "name": "stdout",
     "output_type": "stream",
     "text": [
      "[2]\ttrain-rmse:0.25033\tval-rmse:0.35856\n",
      "[3]\ttrain-rmse:0.21453\tval-rmse:0.34846\n",
      "[4]\ttrain-rmse:0.18640\tval-rmse:0.34516\n",
      "[5]\ttrain-rmse:0.17509\tval-rmse:0.34247\n",
      "[6]\ttrain-rmse:0.16005\tval-rmse:0.34182\n",
      "[7]\ttrain-rmse:0.15084\tval-rmse:0.34334\n",
      "[8]\ttrain-rmse:0.14311\tval-rmse:0.34254\n",
      "[9]\ttrain-rmse:0.13920\tval-rmse:0.34262\n",
      "[10]\ttrain-rmse:0.13609\tval-rmse:0.34262\n",
      "[11]\ttrain-rmse:0.13368\tval-rmse:0.34275\n",
      "[12]\ttrain-rmse:0.13107\tval-rmse:0.34114\n",
      "[13]\ttrain-rmse:0.12682\tval-rmse:0.34103\n",
      "[14]\ttrain-rmse:0.12370\tval-rmse:0.34103\n",
      "[15]\ttrain-rmse:0.12154\tval-rmse:0.34018\n",
      "[16]\ttrain-rmse:0.11939\tval-rmse:0.33997\n",
      "[17]\ttrain-rmse:0.11716\tval-rmse:0.34062\n",
      "[18]\ttrain-rmse:0.11530\tval-rmse:0.34036\n",
      "[19]\ttrain-rmse:0.11373\tval-rmse:0.34029\n",
      "[20]\ttrain-rmse:0.10948\tval-rmse:0.34017\n",
      "[21]\ttrain-rmse:0.10789\tval-rmse:0.34028\n",
      "[22]\ttrain-rmse:0.10651\tval-rmse:0.34065\n",
      "[23]\ttrain-rmse:0.10520\tval-rmse:0.34134\n",
      "[24]\ttrain-rmse:0.10344\tval-rmse:0.34035\n",
      "[25]\ttrain-rmse:0.10171\tval-rmse:0.33968\n",
      "[26]\ttrain-rmse:0.10041\tval-rmse:0.33980\n",
      "[27]\ttrain-rmse:0.09913\tval-rmse:0.34124\n",
      "[28]\ttrain-rmse:0.09782\tval-rmse:0.34191\n",
      "[29]\ttrain-rmse:0.09626\tval-rmse:0.34289\n",
      "[30]\ttrain-rmse:0.09512\tval-rmse:0.34254\n"
     ]
    },
    {
     "name": "stderr",
     "output_type": "stream",
     "text": [
      "c:\\Users\\rlong\\AppData\\Local\\Programs\\Python\\Python310\\lib\\site-packages\\xgboost\\data.py:520: FutureWarning: is_sparse is deprecated and will be removed in a future version. Check `isinstance(dtype, pd.SparseDtype)` instead.\n",
      "  if is_sparse(data):\n"
     ]
    },
    {
     "name": "stdout",
     "output_type": "stream",
     "text": [
      "[31]\ttrain-rmse:0.09377\tval-rmse:0.34186\n",
      "[32]\ttrain-rmse:0.09260\tval-rmse:0.34197\n",
      "[33]\ttrain-rmse:0.09158\tval-rmse:0.34143\n",
      "[34]\ttrain-rmse:0.09026\tval-rmse:0.34140\n",
      "[35]\ttrain-rmse:0.08851\tval-rmse:0.34126\n",
      "[36]\ttrain-rmse:0.08726\tval-rmse:0.34111\n",
      "[37]\ttrain-rmse:0.08604\tval-rmse:0.34178\n",
      "[38]\ttrain-rmse:0.08513\tval-rmse:0.34302\n",
      "[39]\ttrain-rmse:0.08423\tval-rmse:0.34360\n",
      "[40]\ttrain-rmse:0.08331\tval-rmse:0.34362\n",
      "[41]\ttrain-rmse:0.08200\tval-rmse:0.34320\n",
      "[42]\ttrain-rmse:0.08095\tval-rmse:0.34339\n",
      "[43]\ttrain-rmse:0.07954\tval-rmse:0.34368\n",
      "[44]\ttrain-rmse:0.07867\tval-rmse:0.34402\n",
      "[45]\ttrain-rmse:0.07789\tval-rmse:0.34410\n",
      "[46]\ttrain-rmse:0.07702\tval-rmse:0.34430\n",
      "[47]\ttrain-rmse:0.07602\tval-rmse:0.34438\n",
      "[48]\ttrain-rmse:0.07421\tval-rmse:0.34404\n",
      "[49]\ttrain-rmse:0.07340\tval-rmse:0.34462\n",
      "[50]\ttrain-rmse:0.07263\tval-rmse:0.34505\n",
      "[51]\ttrain-rmse:0.07188\tval-rmse:0.34510\n",
      "[52]\ttrain-rmse:0.07124\tval-rmse:0.34516\n",
      "[53]\ttrain-rmse:0.07047\tval-rmse:0.34505\n",
      "[54]\ttrain-rmse:0.06953\tval-rmse:0.34527\n",
      "[55]\ttrain-rmse:0.06888\tval-rmse:0.34533\n",
      "[56]\ttrain-rmse:0.06643\tval-rmse:0.34619\n",
      "[57]\ttrain-rmse:0.06572\tval-rmse:0.34633\n",
      "[58]\ttrain-rmse:0.06507\tval-rmse:0.34632\n",
      "[59]\ttrain-rmse:0.06370\tval-rmse:0.34659\n",
      "[60]\ttrain-rmse:0.06270\tval-rmse:0.34727\n",
      "[61]\ttrain-rmse:0.06218\tval-rmse:0.34722\n",
      "[62]\ttrain-rmse:0.06154\tval-rmse:0.34698\n",
      "[63]\ttrain-rmse:0.06099\tval-rmse:0.34713\n",
      "[64]\ttrain-rmse:0.06042\tval-rmse:0.34717\n",
      "[65]\ttrain-rmse:0.05996\tval-rmse:0.34716\n",
      "[66]\ttrain-rmse:0.05925\tval-rmse:0.34772\n",
      "[67]\ttrain-rmse:0.05876\tval-rmse:0.34816\n",
      "[68]\ttrain-rmse:0.05812\tval-rmse:0.34872\n",
      "[69]\ttrain-rmse:0.05768\tval-rmse:0.34867\n",
      "[70]\ttrain-rmse:0.05690\tval-rmse:0.34869\n",
      "[71]\ttrain-rmse:0.05633\tval-rmse:0.34869\n",
      "[72]\ttrain-rmse:0.05557\tval-rmse:0.34955\n",
      "[73]\ttrain-rmse:0.05483\tval-rmse:0.34955\n",
      "[74]\ttrain-rmse:0.05385\tval-rmse:0.34960\n",
      "[75]\ttrain-rmse:0.05339\tval-rmse:0.34963\n",
      "[76]\ttrain-rmse:0.05278\tval-rmse:0.35036\n",
      "[77]\ttrain-rmse:0.05209\tval-rmse:0.35047\n",
      "[78]\ttrain-rmse:0.05172\tval-rmse:0.35055\n",
      "[79]\ttrain-rmse:0.05124\tval-rmse:0.35094\n",
      "[80]\ttrain-rmse:0.05082\tval-rmse:0.35182\n",
      "[81]\ttrain-rmse:0.05019\tval-rmse:0.35180\n",
      "[82]\ttrain-rmse:0.04980\tval-rmse:0.35185\n",
      "[83]\ttrain-rmse:0.04943\tval-rmse:0.35169\n",
      "[84]\ttrain-rmse:0.04889\tval-rmse:0.35175\n",
      "[85]\ttrain-rmse:0.04842\tval-rmse:0.35177\n",
      "[86]\ttrain-rmse:0.04792\tval-rmse:0.35176\n",
      "[87]\ttrain-rmse:0.04737\tval-rmse:0.35206\n",
      "[88]\ttrain-rmse:0.04677\tval-rmse:0.35197\n",
      "[89]\ttrain-rmse:0.04634\tval-rmse:0.35186\n",
      "[90]\ttrain-rmse:0.04432\tval-rmse:0.35189\n",
      "[91]\ttrain-rmse:0.04394\tval-rmse:0.35240\n",
      "[92]\ttrain-rmse:0.04340\tval-rmse:0.35283\n",
      "[93]\ttrain-rmse:0.04299\tval-rmse:0.35286\n",
      "[94]\ttrain-rmse:0.04248\tval-rmse:0.35284\n",
      "[95]\ttrain-rmse:0.04210\tval-rmse:0.35280\n",
      "[96]\ttrain-rmse:0.04162\tval-rmse:0.35285\n",
      "[97]\ttrain-rmse:0.04122\tval-rmse:0.35312\n",
      "[98]\ttrain-rmse:0.04091\tval-rmse:0.35310\n",
      "[99]\ttrain-rmse:0.04052\tval-rmse:0.35321\n",
      "[100]\ttrain-rmse:0.04025\tval-rmse:0.35336\n",
      "[101]\ttrain-rmse:0.03990\tval-rmse:0.35348\n",
      "[102]\ttrain-rmse:0.03937\tval-rmse:0.35377\n",
      "[103]\ttrain-rmse:0.03887\tval-rmse:0.35372\n",
      "[104]\ttrain-rmse:0.03846\tval-rmse:0.35380\n",
      "[105]\ttrain-rmse:0.03813\tval-rmse:0.35405\n",
      "[106]\ttrain-rmse:0.03788\tval-rmse:0.35401\n",
      "[107]\ttrain-rmse:0.03763\tval-rmse:0.35409\n",
      "[108]\ttrain-rmse:0.03737\tval-rmse:0.35432\n",
      "[109]\ttrain-rmse:0.03708\tval-rmse:0.35415\n",
      "[110]\ttrain-rmse:0.03658\tval-rmse:0.35390\n",
      "[111]\ttrain-rmse:0.03634\tval-rmse:0.35393\n",
      "[112]\ttrain-rmse:0.03611\tval-rmse:0.35399\n",
      "[113]\ttrain-rmse:0.03568\tval-rmse:0.35413\n",
      "[114]\ttrain-rmse:0.03539\tval-rmse:0.35456\n",
      "[115]\ttrain-rmse:0.03493\tval-rmse:0.35470\n",
      "[116]\ttrain-rmse:0.03465\tval-rmse:0.35488\n",
      "[117]\ttrain-rmse:0.03428\tval-rmse:0.35497\n",
      "[118]\ttrain-rmse:0.03401\tval-rmse:0.35507\n",
      "[119]\ttrain-rmse:0.03381\tval-rmse:0.35517\n",
      "[120]\ttrain-rmse:0.03362\tval-rmse:0.35524\n",
      "[121]\ttrain-rmse:0.03333\tval-rmse:0.35527\n",
      "[122]\ttrain-rmse:0.03292\tval-rmse:0.35567\n",
      "[123]\ttrain-rmse:0.03257\tval-rmse:0.35552\n",
      "[124]\ttrain-rmse:0.03230\tval-rmse:0.35551\n",
      "[125]\ttrain-rmse:0.03201\tval-rmse:0.35555\n",
      "[126]\ttrain-rmse:0.03182\tval-rmse:0.35557\n",
      "[127]\ttrain-rmse:0.03164\tval-rmse:0.35560\n",
      "[128]\ttrain-rmse:0.03147\tval-rmse:0.35567\n",
      "[129]\ttrain-rmse:0.03109\tval-rmse:0.35592\n",
      "[130]\ttrain-rmse:0.03092\tval-rmse:0.35609\n",
      "[131]\ttrain-rmse:0.03075\tval-rmse:0.35613\n",
      "[132]\ttrain-rmse:0.03053\tval-rmse:0.35623\n",
      "[133]\ttrain-rmse:0.03029\tval-rmse:0.35636\n",
      "[134]\ttrain-rmse:0.03005\tval-rmse:0.35653\n",
      "[135]\ttrain-rmse:0.02983\tval-rmse:0.35672\n",
      "[136]\ttrain-rmse:0.02953\tval-rmse:0.35669\n",
      "[137]\ttrain-rmse:0.02935\tval-rmse:0.35680\n",
      "[138]\ttrain-rmse:0.02890\tval-rmse:0.35684\n",
      "[139]\ttrain-rmse:0.02871\tval-rmse:0.35687\n",
      "[140]\ttrain-rmse:0.02852\tval-rmse:0.35689\n",
      "[141]\ttrain-rmse:0.02832\tval-rmse:0.35690\n",
      "[142]\ttrain-rmse:0.02798\tval-rmse:0.35723\n",
      "[143]\ttrain-rmse:0.02779\tval-rmse:0.35715\n",
      "[144]\ttrain-rmse:0.02758\tval-rmse:0.35713\n",
      "[145]\ttrain-rmse:0.02737\tval-rmse:0.35723\n",
      "[146]\ttrain-rmse:0.02722\tval-rmse:0.35721\n",
      "[147]\ttrain-rmse:0.02679\tval-rmse:0.35743\n",
      "[148]\ttrain-rmse:0.02660\tval-rmse:0.35746\n",
      "[149]\ttrain-rmse:0.02637\tval-rmse:0.35747\n",
      "[150]\ttrain-rmse:0.02589\tval-rmse:0.35734\n",
      "[151]\ttrain-rmse:0.02535\tval-rmse:0.35718\n",
      "[152]\ttrain-rmse:0.02517\tval-rmse:0.35726\n",
      "[153]\ttrain-rmse:0.02487\tval-rmse:0.35722\n",
      "[154]\ttrain-rmse:0.02474\tval-rmse:0.35725\n",
      "[155]\ttrain-rmse:0.02450\tval-rmse:0.35734\n",
      "[156]\ttrain-rmse:0.02428\tval-rmse:0.35740\n",
      "[157]\ttrain-rmse:0.02412\tval-rmse:0.35757\n",
      "[158]\ttrain-rmse:0.02390\tval-rmse:0.35761\n",
      "[159]\ttrain-rmse:0.02376\tval-rmse:0.35766\n",
      "[160]\ttrain-rmse:0.02333\tval-rmse:0.35755\n",
      "[161]\ttrain-rmse:0.02321\tval-rmse:0.35745\n",
      "[162]\ttrain-rmse:0.02303\tval-rmse:0.35750\n",
      "[163]\ttrain-rmse:0.02288\tval-rmse:0.35765\n",
      "[164]\ttrain-rmse:0.02274\tval-rmse:0.35766\n",
      "[165]\ttrain-rmse:0.02261\tval-rmse:0.35773\n",
      "[166]\ttrain-rmse:0.02250\tval-rmse:0.35775\n",
      "[167]\ttrain-rmse:0.02208\tval-rmse:0.35777\n",
      "[168]\ttrain-rmse:0.02193\tval-rmse:0.35773\n",
      "[169]\ttrain-rmse:0.02177\tval-rmse:0.35776\n",
      "[170]\ttrain-rmse:0.02153\tval-rmse:0.35777\n",
      "[171]\ttrain-rmse:0.02137\tval-rmse:0.35816\n",
      "[172]\ttrain-rmse:0.02122\tval-rmse:0.35820\n",
      "[173]\ttrain-rmse:0.02109\tval-rmse:0.35822\n",
      "[174]\ttrain-rmse:0.02082\tval-rmse:0.35831\n",
      "[175]\ttrain-rmse:0.02051\tval-rmse:0.35830\n",
      "[176]\ttrain-rmse:0.02041\tval-rmse:0.35828\n",
      "[177]\ttrain-rmse:0.02031\tval-rmse:0.35843\n",
      "[178]\ttrain-rmse:0.02017\tval-rmse:0.35848\n",
      "[179]\ttrain-rmse:0.02007\tval-rmse:0.35852\n",
      "[180]\ttrain-rmse:0.01993\tval-rmse:0.35854\n",
      "[181]\ttrain-rmse:0.01950\tval-rmse:0.35862\n",
      "[182]\ttrain-rmse:0.01934\tval-rmse:0.35867\n",
      "[183]\ttrain-rmse:0.01923\tval-rmse:0.35872\n",
      "[184]\ttrain-rmse:0.01913\tval-rmse:0.35886\n",
      "[185]\ttrain-rmse:0.01903\tval-rmse:0.35885\n",
      "[186]\ttrain-rmse:0.01890\tval-rmse:0.35881\n",
      "[187]\ttrain-rmse:0.01875\tval-rmse:0.35878\n",
      "[188]\ttrain-rmse:0.01862\tval-rmse:0.35879\n",
      "[189]\ttrain-rmse:0.01853\tval-rmse:0.35881\n",
      "[190]\ttrain-rmse:0.01841\tval-rmse:0.35886\n",
      "[191]\ttrain-rmse:0.01799\tval-rmse:0.35887\n",
      "[192]\ttrain-rmse:0.01788\tval-rmse:0.35889\n",
      "[193]\ttrain-rmse:0.01779\tval-rmse:0.35892\n",
      "[194]\ttrain-rmse:0.01768\tval-rmse:0.35894\n",
      "[195]\ttrain-rmse:0.01758\tval-rmse:0.35896\n",
      "[196]\ttrain-rmse:0.01747\tval-rmse:0.35899\n",
      "[197]\ttrain-rmse:0.01734\tval-rmse:0.35898\n",
      "[198]\ttrain-rmse:0.01725\tval-rmse:0.35906\n",
      "[199]\ttrain-rmse:0.01683\tval-rmse:0.35916\n"
     ]
    },
    {
     "data": {
      "text/plain": [
       "0.9018522461145413"
      ]
     },
     "execution_count": 48,
     "metadata": {},
     "output_type": "execute_result"
    }
   ],
   "source": [
    "watchlist = [(dtrain, 'train'), (dval, 'val')]\n",
    "\n",
    "dtrain = xgb.DMatrix(X_train, label=y_train)\n",
    "dval = xgb.DMatrix(X_val, label=y_val)\n",
    "\n",
    "watchlist = [(dtrain, 'train'), (dval, 'val')]\n",
    "xgb_params = {\n",
    "    'eta': 0.3, \n",
    "    'max_depth': 6,\n",
    "    'min_child_weight': 1,\n",
    "    'objective': 'reg:squarederror',\n",
    "    'nthread': 8,\n",
    "    'seed': 1,\n",
    "    'verbosity': 1,\n",
    "}\n",
    "\n",
    "model = xgb.train(xgb_params, dtrain, num_boost_round=200, evals=watchlist)\n",
    "\n",
    "y_pred = model.predict(dval)\n",
    "roc_auc_score(y_val, y_pred )"
   ]
  },
  {
   "cell_type": "code",
   "execution_count": null,
   "metadata": {},
   "outputs": [],
   "source": []
  },
  {
   "cell_type": "code",
   "execution_count": null,
   "metadata": {},
   "outputs": [],
   "source": []
  }
 ],
 "metadata": {
  "kernelspec": {
   "display_name": "Python 3",
   "language": "python",
   "name": "python3"
  },
  "language_info": {
   "codemirror_mode": {
    "name": "ipython",
    "version": 3
   },
   "file_extension": ".py",
   "mimetype": "text/x-python",
   "name": "python",
   "nbconvert_exporter": "python",
   "pygments_lexer": "ipython3",
   "version": "3.10.4"
  }
 },
 "nbformat": 4,
 "nbformat_minor": 2
}
